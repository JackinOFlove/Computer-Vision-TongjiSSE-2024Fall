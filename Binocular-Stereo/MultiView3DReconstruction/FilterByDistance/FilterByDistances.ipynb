{
 "cells": [
  {
   "cell_type": "code",
   "execution_count": 1,
   "id": "initial_id",
   "metadata": {
    "ExecuteTime": {
     "end_time": "2024-12-10T14:00:44.976544Z",
     "start_time": "2024-12-10T14:00:44.770959Z"
    },
    "collapsed": true
   },
   "outputs": [],
   "source": [
    "from plyfile import PlyData, PlyElement\n",
    "import numpy as np"
   ]
  },
  {
   "cell_type": "code",
   "execution_count": 2,
   "id": "63dc22de46aed05c",
   "metadata": {
    "ExecuteTime": {
     "end_time": "2024-12-10T14:09:37.560032Z",
     "start_time": "2024-12-10T14:09:37.551740Z"
    }
   },
   "outputs": [],
   "source": [
    "def filter_ply_by_z(file_path, output_path, z_min=2, z_max=3):\n",
    "    # read ply file\n",
    "    plydata = PlyData.read(file_path)\n",
    "    \n",
    "    # get vertex element and property names\n",
    "    vertex_element = plydata.elements[0]\n",
    "    property_names = vertex_element.data.dtype.names\n",
    "    \n",
    "    # convert vertex data to numpy array, and add other properties (such as color)\n",
    "    vertex_data = np.array(\n",
    "        [tuple(row) for row in vertex_element.data],\n",
    "        dtype=np.dtype([(name, vertex_element.data.dtype[name]) for name in property_names])\n",
    "    )\n",
    "    \n",
    "    # filter out points with z coordinate between z_min and z_max\n",
    "    mask = (vertex_data['z'] >= z_min) & (vertex_data['z'] <= z_max)\n",
    "    filtered_vertex_data = vertex_data[mask]\n",
    "    \n",
    "    # create new vertex element, keep original properties\n",
    "    new_vertex_element = PlyElement.describe(filtered_vertex_data, 'vertex')\n",
    "    \n",
    "    # build new PLY data structure and keep original file's text mode\n",
    "    new_ply_data = PlyData([new_vertex_element], text=plydata.text)\n",
    "    \n",
    "    # write to new PLY file\n",
    "    new_ply_data.write(output_path)"
   ]
  },
  {
   "cell_type": "code",
   "execution_count": 3,
   "id": "d4b43d4e9faa764f",
   "metadata": {
    "ExecuteTime": {
     "end_time": "2024-12-10T14:09:42.031176Z",
     "start_time": "2024-12-10T14:09:38.947740Z"
    }
   },
   "outputs": [
    {
     "name": "stdout",
     "output_type": "stream",
     "text": [
      "Processed file 1\n",
      "Processed file 2\n",
      "Processed file 3\n",
      "Processed file 4\n",
      "Processed file 5\n",
      "Processed file 6\n",
      "Processed file 7\n",
      "Processed file 8\n",
      "Processed file 9\n",
      "Processed file 10\n",
      "Processed file 11\n",
      "Processed file 12\n",
      "Processed file 13\n",
      "Processed file 14\n",
      "Processed file 15\n",
      "Processed file 16\n",
      "Processed file 17\n",
      "Processed file 18\n",
      "Processed file 19\n",
      "Processed file 20\n",
      "Processed file 21\n",
      "Processed file 22\n",
      "Processed file 23\n",
      "Processed file 24\n",
      "All files processed\n"
     ]
    }
   ],
   "source": [
    "# loop through files\n",
    "for i in range(1, 25):\n",
    "    input_file = f'afterColorFilter/filtered_result_{i}.ply'  # input PLY file path\n",
    "    output_file = f'final/final_{i}.ply'  # output PLY file path\n",
    "    filter_ply_by_z(input_file, output_file)\n",
    "    print(f\"Processed file {i}\")\n",
    "print(\"All files processed\")"
   ]
  }
 ],
 "metadata": {
  "kernelspec": {
   "display_name": "Python 3",
   "language": "python",
   "name": "python3"
  },
  "language_info": {
   "codemirror_mode": {
    "name": "ipython",
    "version": 3
   },
   "file_extension": ".py",
   "mimetype": "text/x-python",
   "name": "python",
   "nbconvert_exporter": "python",
   "pygments_lexer": "ipython3",
   "version": "3.9.13"
  }
 },
 "nbformat": 4,
 "nbformat_minor": 5
}
